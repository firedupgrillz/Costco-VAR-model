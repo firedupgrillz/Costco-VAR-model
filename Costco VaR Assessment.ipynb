{
 "cells": [
  {
   "cell_type": "markdown",
   "metadata": {
    "id": "0qYvRTglG537"
   },
   "source": [
    "# Value at Risk Assessment Model for Costco (COST)"
   ]
  },
  {
   "cell_type": "markdown",
   "metadata": {
    "id": "n9SHyrgqG538"
   },
   "source": [
    "### Import Packages\n"
   ]
  },
  {
   "cell_type": "code",
   "execution_count": 1,
   "metadata": {
    "id": "6zwRJlzeLaqq"
   },
   "outputs": [],
   "source": [
    "# Import packages\n",
    "import numpy as np\n",
    "import pandas as pd\n",
    "import matplotlib.pyplot as plt\n",
    "import yfinance as yf"
   ]
  },
  {
   "cell_type": "markdown",
   "metadata": {
    "id": "S9eWw_mrG53-"
   },
   "source": [
    "### Distributions - Set Up Stock Parameters"
   ]
  },
  {
   "cell_type": "code",
   "execution_count": 10,
   "metadata": {
    "colab": {
     "base_uri": "https://localhost:8080/"
    },
    "executionInfo": {
     "elapsed": 181,
     "status": "ok",
     "timestamp": 1626320248024,
     "user": {
      "displayName": "Yuting Zhao",
      "photoUrl": "https://lh3.googleusercontent.com/a-/AOh14GgTx8nXEgksfFAELok_uktVap8BK_FeqQbCMfOqOQ=s64",
      "userId": "08092881124962313525"
     },
     "user_tz": 420
    },
    "id": "TWE2nRZhG53_",
    "outputId": "7b19be3c-ad85-484a-e6fb-e73330f9269a"
   },
   "outputs": [
    {
     "name": "stdout",
     "output_type": "stream",
     "text": [
      "yfinance.Ticker object <COST>\n",
      "---------\n",
      "1062.5400390625\n"
     ]
    }
   ],
   "source": [
    "# Number of shares\n",
    "shares_COST = 1000\n",
    "\n",
    "# Live stock price\n",
    "price = yf.Ticker('COST')\n",
    "price_COST = price.history().tail(1)['Close'].iloc[0]\n",
    "\n",
    "print(price)\n",
    "print('---------')\n",
    "print(price_COST)"
   ]
  },
  {
   "cell_type": "markdown",
   "metadata": {},
   "source": [
    "30-day Historical volatility source: https://www.alphaquery.com/stock/COST/volatility-option-statistics/30-day/historical-volatility"
   ]
  },
  {
   "cell_type": "code",
   "execution_count": 12,
   "metadata": {
    "id": "1pwJU3PdLaqs"
   },
   "outputs": [],
   "source": [
    "# Investment value\n",
    "value_COST = price_COST * shares_COST\n",
    "\n",
    "# Risk free rate (4 week treasury bill rate)\n",
    "rfr_COST = 0.02 \n",
    "\n",
    "# Volatility (30-day volatility at that time)\n",
    "# Start Date: 2024-11-20 \n",
    "# End Date: 2025-02-19\n",
    "\n",
    "vol_COST = 0.1814"
   ]
  },
  {
   "cell_type": "markdown",
   "metadata": {
    "id": "Tx3t5Yu0G54C"
   },
   "source": [
    "### Simulations - Calculate Investment Returns"
   ]
  },
  {
   "cell_type": "code",
   "execution_count": 13,
   "metadata": {
    "id": "DV0RqdK2G54D"
   },
   "outputs": [],
   "source": [
    "# Number of simulations\n",
    "simulations = 5000 \n",
    "\n",
    "# Investment time in a year\n",
    "t_COST = 21/252 "
   ]
  },
  {
   "cell_type": "code",
   "execution_count": 14,
   "metadata": {
    "colab": {
     "base_uri": "https://localhost:8080/",
     "height": 811
    },
    "executionInfo": {
     "elapsed": 752,
     "status": "ok",
     "timestamp": 1624456739147,
     "user": {
      "displayName": "Lester Leong",
      "photoUrl": "https://lh3.googleusercontent.com/a-/AOh14GhESsAP_U-p-CX8EsBjBg4EszjEo6Qb0zr-LMf14g=s64",
      "userId": "17427307644910609596"
     },
     "user_tz": 300
    },
    "id": "3uhH4lTRG54E",
    "outputId": "e3c6ca8d-496f-41c8-ffb6-c880870d83a3"
   },
   "outputs": [
    {
     "data": {
      "text/plain": [
       "(array([  2.,   0.,   0.,   0.,   0.,   1.,   2.,   3.,   4.,   3.,   3.,\n",
       "          7.,  12.,   9.,  15.,  14.,  11.,  17.,  17.,  20.,  28.,  38.,\n",
       "         38.,  39.,  41.,  62.,  50.,  67.,  77.,  76.,  86., 106., 113.,\n",
       "        108., 111., 119., 117., 149., 124., 124., 151., 171., 167., 159.,\n",
       "        165., 136., 156., 152., 149., 142., 146., 146., 140., 133., 118.,\n",
       "         81., 101.,  92.,  68.,  87.,  79.,  64.,  49.,  57.,  38.,  33.,\n",
       "         32.,  26.,  27.,  29.,  20.,  13.,  12.,  12.,  11.,   5.,   3.,\n",
       "          1.,   3.,   4.,   1.,   0.,   1.,   0.,   2.,   0.,   0.,   3.,\n",
       "          0.,   0.,   0.,   0.,   1.,   0.,   0.,   0.,   0.,   0.,   0.,\n",
       "          1.]),\n",
       " array([-3.48126075, -3.40235414, -3.32344753, -3.24454092, -3.16563432,\n",
       "        -3.08672771, -3.0078211 , -2.92891449, -2.85000789, -2.77110128,\n",
       "        -2.69219467, -2.61328806, -2.53438146, -2.45547485, -2.37656824,\n",
       "        -2.29766163, -2.21875502, -2.13984842, -2.06094181, -1.9820352 ,\n",
       "        -1.90312859, -1.82422199, -1.74531538, -1.66640877, -1.58750216,\n",
       "        -1.50859555, -1.42968895, -1.35078234, -1.27187573, -1.19296912,\n",
       "        -1.11406252, -1.03515591, -0.9562493 , -0.87734269, -0.79843609,\n",
       "        -0.71952948, -0.64062287, -0.56171626, -0.48280965, -0.40390305,\n",
       "        -0.32499644, -0.24608983, -0.16718322, -0.08827662, -0.00937001,\n",
       "         0.0695366 ,  0.14844321,  0.22734982,  0.30625642,  0.38516303,\n",
       "         0.46406964,  0.54297625,  0.62188285,  0.70078946,  0.77969607,\n",
       "         0.85860268,  0.93750928,  1.01641589,  1.0953225 ,  1.17422911,\n",
       "         1.25313572,  1.33204232,  1.41094893,  1.48985554,  1.56876215,\n",
       "         1.64766875,  1.72657536,  1.80548197,  1.88438858,  1.96329518,\n",
       "         2.04220179,  2.1211084 ,  2.20001501,  2.27892162,  2.35782822,\n",
       "         2.43673483,  2.51564144,  2.59454805,  2.67345465,  2.75236126,\n",
       "         2.83126787,  2.91017448,  2.98908109,  3.06798769,  3.1468943 ,\n",
       "         3.22580091,  3.30470752,  3.38361412,  3.46252073,  3.54142734,\n",
       "         3.62033395,  3.69924055,  3.77814716,  3.85705377,  3.93596038,\n",
       "         4.01486699,  4.09377359,  4.1726802 ,  4.25158681,  4.33049342,\n",
       "         4.40940002]),\n",
       " <BarContainer object of 100 artists>)"
      ]
     },
     "execution_count": 14,
     "metadata": {},
     "output_type": "execute_result"
    },
    {
     "data": {
      "image/png": "[encoded data removed]",
      "text/plain": [
       "<Figure size 640x480 with 1 Axes>"
      ]
     },
     "metadata": {},
     "output_type": "display_data"
    }
   ],
   "source": [
    "# Explain np.random.standard_normal\n",
    "sample = np.random.standard_normal(5000)\n",
    "plt.hist(sample,bins=100)"
   ]
  },
  {
   "cell_type": "code",
   "execution_count": 15,
   "metadata": {
    "colab": {
     "base_uri": "https://localhost:8080/"
    },
    "executionInfo": {
     "elapsed": 8,
     "status": "ok",
     "timestamp": 1624456739148,
     "user": {
      "displayName": "Lester Leong",
      "photoUrl": "https://lh3.googleusercontent.com/a-/AOh14GhESsAP_U-p-CX8EsBjBg4EszjEo6Qb0zr-LMf14g=s64",
      "userId": "17427307644910609596"
     },
     "user_tz": 300
    },
    "id": "ecg0kj4PG54F",
    "outputId": "9ba22a66-a2f1-4820-a054-35549fd32622"
   },
   "outputs": [
    {
     "name": "stdout",
     "output_type": "stream",
     "text": [
      "0.004265672862389006\n",
      "0.9959917704812389\n"
     ]
    }
   ],
   "source": [
    "print(np.mean(sample))\n",
    "print(np.std(sample))"
   ]
  },
  {
   "cell_type": "code",
   "execution_count": 20,
   "metadata": {
    "id": "0oUobTOZLaqs"
   },
   "outputs": [],
   "source": [
    "# Create a function to calculate the returns of the investment\n",
    "def VaR(pv, rfr, vol, t, simulations):\n",
    "    end_value = pv * np.exp((rfr - .5 * vol ** 2) * t + np.random.standard_normal(\n",
    "        simulations) * vol * np.sqrt(t))\n",
    "    returns = end_value - pv\n",
    "    return returns\n",
    "\n",
    "# Apply the VaR function to simulate the returns\n",
    "returns_COST = VaR(value_COST, rfr_COST, vol_COST, t_COST, simulations)"
   ]
  },
  {
   "cell_type": "markdown",
   "metadata": {
    "id": "nvhBrW_1G54H"
   },
   "source": [
    "### Quantifications - Identify VaR at 90%, 95%, and 99% Confidence Level"
   ]
  },
  {
   "cell_type": "code",
   "execution_count": 21,
   "metadata": {
    "colab": {
     "base_uri": "https://localhost:8080/"
    },
    "executionInfo": {
     "elapsed": 6,
     "status": "ok",
     "timestamp": 1624456739149,
     "user": {
      "displayName": "Lester Leong",
      "photoUrl": "https://lh3.googleusercontent.com/a-/AOh14GhESsAP_U-p-CX8EsBjBg4EszjEo6Qb0zr-LMf14g=s64",
      "userId": "17427307644910609596"
     },
     "user_tz": 300
    },
    "id": "gQu-YRHZG54I",
    "outputId": "551f0d02-0383-4274-d375-9e6257c37884"
   },
   "outputs": [
    {
     "name": "stdout",
     "output_type": "stream",
     "text": [
      "VaR at 90% confidence level: $3,455\n"
     ]
    }
   ],
   "source": [
    "# Explain string formatting\n",
    "# Print: VaR at x% confidence level: $y.\n",
    "\n",
    "x = 0.9\n",
    "y = 3455.248\n",
    "print(\"VaR at {:.0%} confidence level: ${:,.0f}\".format(x, y))"
   ]
  },
  {
   "cell_type": "code",
   "execution_count": 23,
   "metadata": {
    "colab": {
     "base_uri": "https://localhost:8080/",
     "height": 316
    },
    "executionInfo": {
     "elapsed": 735,
     "status": "ok",
     "timestamp": 1624456739879,
     "user": {
      "displayName": "Lester Leong",
      "photoUrl": "https://lh3.googleusercontent.com/a-/AOh14GhESsAP_U-p-CX8EsBjBg4EszjEo6Qb0zr-LMf14g=s64",
      "userId": "17427307644910609596"
     },
     "user_tz": 300
    },
    "id": "L5NT-rgIG54K",
    "outputId": "518ae085-5727-4cc0-cad2-4fdbe02ebfd0"
   },
   "outputs": [
    {
     "name": "stdout",
     "output_type": "stream",
     "text": [
      "VaR at 90% confidence level: $-66,381\n",
      "VaR at 95% confidence level: $-85,538\n",
      "VaR at 99% confidence level: $-116,787\n"
     ]
    },
    {
     "data": {
      "image/png": "[encoded data removed]",
      "text/plain": [
       "<Figure size 640x480 with 1 Axes>"
      ]
     },
     "metadata": {},
     "output_type": "display_data"
    }
   ],
   "source": [
    "# Plot the returns\n",
    "plt.hist(returns_COST, bins=100);\n",
    "\n",
    "# Show VaR at 90%, 95%, and 99% confidence level\n",
    "percentiles = [10,5,1]\n",
    "\n",
    "for i in percentiles:\n",
    "    confidence = (100-i)/100\n",
    "    value = np.percentile(returns_COST, i)\n",
    "    print(\"VaR at {:.0%} confidence level: ${:,.0f}\".format(confidence, value))\n",
    "    plt.axvline(value, color = 'red', linestyle='dashed', linewidth=1)"
   ]
  },
  {
   "cell_type": "code",
   "execution_count": null,
   "metadata": {
    "id": "GsUWTH8JG54K"
   },
   "outputs": [],
   "source": []
  }
 ],
 "metadata": {
  "colab": {
   "collapsed_sections": [],
   "name": "03-Value at Risk Assessment V2 (with script).ipynb",
   "provenance": []
  },
  "kernelspec": {
   "display_name": "base",
   "language": "python",
   "name": "python3"
  },
  "language_info": {
   "codemirror_mode": {
    "name": "ipython",
    "version": 3
   },
   "file_extension": ".py",
   "mimetype": "text/x-python",
   "name": "python",
   "nbconvert_exporter": "python",
   "pygments_lexer": "ipython3",
   "version": "3.11.5"
  }
 },
 "nbformat": 4,
 "nbformat_minor": 1
}
